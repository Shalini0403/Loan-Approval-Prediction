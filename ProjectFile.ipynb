{
 "cells": [
  {
   "cell_type": "code",
   "execution_count": 1,
   "metadata": {},
   "outputs": [],
   "source": [
    "import numpy as np\n",
    "import pandas as pd\n",
    "import matplotlib.pyplot as plt\n",
    "import seaborn as sns\n",
    "from sklearn import linear_model\n",
    "from sklearn import model_selection\n",
    "from sklearn import neighbors\n",
    "from sklearn import naive_bayes\n",
    "from sklearn import ensemble\n",
    "from sklearn import tree\n",
    "from sklearn import feature_selection\n",
    "from sklearn import metrics\n",
    "from sklearn import preprocessing\n",
    "#from sklearn.impute import KNNImputer"
   ]
  },
  {
   "cell_type": "code",
   "execution_count": 2,
   "metadata": {},
   "outputs": [],
   "source": [
    "def analysefeatures(pdf):\n",
    "    inttypes=['int16','int32','int64']\n",
    "    floattypes=['float32','float64']\n",
    "    intcols=pdf.select_dtypes(include=inttypes).columns.values\n",
    "    floatcols=pdf.select_dtypes(include=floattypes).columns.values\n",
    "    catcols=pdf.select_dtypes(include=['object']).columns.values\n",
    "    return intcols,floatcols,catcols"
   ]
  },
  {
   "cell_type": "code",
   "execution_count": 3,
   "metadata": {},
   "outputs": [],
   "source": [
    "def modelwisetest(modellist,Xtrain,Xtest,Ytrain,Ytest):\n",
    "    serieslist=[]\n",
    "    for model in modellist:\n",
    "        scores=np.zeros(Xtrain.shape[1])\n",
    "        for i,col in enumerate(Xtrain.columns.values):\n",
    "             #model=ensemble.RandomForestClassifier(100)\n",
    "             \n",
    "             model.fit(Xtrain[col].values.reshape(-1,1),Ytrain)\n",
    "             predtest=model.predict(Xtest[col].values.reshape(-1,1))\n",
    "             auc=metrics.roc_auc_score(Ytest,predtest)\n",
    "             scores[i]=auc\n",
    "        ser=pd.Series(scores)\n",
    "        ser.index=Xtrain.columns\n",
    "        serieslist.append(ser.sort_values(ascending=False))\n",
    "    return serieslist\n"
   ]
  },
  {
   "cell_type": "code",
   "execution_count": 4,
   "metadata": {},
   "outputs": [],
   "source": [
    "def reports(ytrue,predicted):\n",
    "    print(\"Accuracy : {}\".format(metrics.accuracy_score(ytrue,predicted)))\n",
    "    print(\"Precision : {}\".format(metrics.precision_score(ytrue,predicted)))\n",
    "    print(\"Recall : {}\".format(metrics.recall_score(ytrue,predicted)))\n",
    "    print(\"F1_score : {}\".format(metrics.f1_score(ytrue,predicted)))"
   ]
  },
  {
   "cell_type": "code",
   "execution_count": 5,
   "metadata": {},
   "outputs": [],
   "source": [
    "def buildlog(Xtrain,Xtest,ytrain,ytest):\n",
    "    model=linear_model.LogisticRegression()\n",
    "    model.fit(Xtrain,ytrain)\n",
    "    predtest=model.predict(Xtest)\n",
    "    print(\"########TEST REPORT#########\")\n",
    "    reports(ytest,predtest)\n",
    "    "
   ]
  },
  {
   "cell_type": "code",
   "execution_count": 6,
   "metadata": {},
   "outputs": [],
   "source": [
    "def buildforest(Xtrain,Xtest,ytrain,ytest):\n",
    "    model=ensemble.RandomForestClassifier(n_estimators=100, max_depth=25\n",
    "                                          , min_samples_split=25 , min_samples_leaf=25)\n",
    "    model.fit(Xtrain,ytrain)\n",
    "    predtest=model.predict(Xtest)\n",
    "    predtrain=model.predict(Xtrain)\n",
    "    print(\"########TRAIN REPORT#########\")\n",
    "    reports(ytrain,predtrain)\n",
    "    print(\"########TEST REPORT#########\")\n",
    "    reports(ytest,predtest)\n",
    "    "
   ]
  },
  {
   "cell_type": "code",
   "execution_count": 7,
   "metadata": {},
   "outputs": [],
   "source": [
    "def buildnb(Xtrain,Xtest,ytrain,ytest):\n",
    "    model=naive_bayes.GaussianNB()\n",
    "    model.fit(Xtrain,ytrain)\n",
    "    predtest=model.predict(Xtest)\n",
    "    print(\"########TEST REPORT#########\")\n",
    "    reports(ytest,predtest)"
   ]
  },
  {
   "cell_type": "code",
   "execution_count": 8,
   "metadata": {},
   "outputs": [],
   "source": [
    "def buildtree(Xtrain,Xtest,ytrain,ytest):\n",
    "    model=tree.DecisionTreeClassifier()\n",
    "    model.fit(Xtrain,ytrain)\n",
    "    predtest=model.predict(Xtest)\n",
    "    predtrain=model.predict(Xtrain)\n",
    "    print(\"########TRAIN REPORT#########\")\n",
    "    reports(ytrain,predtrain)\n",
    "    print(\"########TEST REPORT#########\")\n",
    "    reports(ytest,predtest)"
   ]
  },
  {
   "cell_type": "code",
   "execution_count": 9,
   "metadata": {},
   "outputs": [],
   "source": [
    "def buildknn(Xtrain,Xtest,ytrain,ytest):\n",
    "    model=neighbors.KNeighborsClassifier()\n",
    "    k=[l for l in range(5,17,2)]\n",
    "    grid={\"n_neighbors\":k}\n",
    "    grid_obj = model_selection.GridSearchCV(estimator=model,param_grid=grid,scoring=\"f1\")\n",
    "    grid_fit =grid_obj.fit(Xtrain,ytrain)\n",
    "    model = grid_fit.best_estimator_\n",
    "    model.fit(Xtrain,ytrain)\n",
    "    predtest=model.predict(Xtest)\n",
    "    predtrain=model.predict(Xtrain)\n",
    "    print(\"########TRAIN REPORT#########\")\n",
    "    reports(ytrain,predtrain)\n",
    "    print(\"########TEST REPORT#########\")\n",
    "    reports(ytest,predtest)\n",
    "\n"
   ]
  },
  {
   "cell_type": "code",
   "execution_count": 10,
   "metadata": {},
   "outputs": [],
   "source": [
    "df1=pd.read_csv('credit_train.csv')"
   ]
  },
  {
   "cell_type": "code",
   "execution_count": 11,
   "metadata": {},
   "outputs": [],
   "source": [
    "df1.drop(['Loan ID','Customer ID'],inplace=True,axis=1)"
   ]
  },
  {
   "cell_type": "code",
   "execution_count": 12,
   "metadata": {},
   "outputs": [],
   "source": [
    "df1.replace({'Loan Status':{'Yes':1,'No':0}},inplace=True)"
   ]
  },
  {
   "cell_type": "code",
   "execution_count": 13,
   "metadata": {},
   "outputs": [],
   "source": [
    "df1.rename(columns={'Current Loan Amount':'loan_amount','Months since last delinquent':'deliquency'\n",
    "                    ,'Number of Open Accounts':'open_accounts','Maximum Open Credit':'MOC'\n",
    "                    ,'Current Credit Balance':'credit_bal','Years of Credit History':'credit_years'\n",
    "                    ,'Home Ownership':'property','Years in current job':'job'\n",
    "                    ,'Number of Credit Problems':'credit_problems'},inplace=True)"
   ]
  },
  {
   "cell_type": "code",
   "execution_count": 14,
   "metadata": {},
   "outputs": [],
   "source": [
    "df1.fillna(df1.median(),inplace=True)"
   ]
  },
  {
   "cell_type": "code",
   "execution_count": 15,
   "metadata": {},
   "outputs": [
    {
     "data": {
      "text/plain": [
       "Loan Status           0\n",
       "loan_amount           0\n",
       "Term                  0\n",
       "Credit Score          0\n",
       "Annual Income         0\n",
       "job                4222\n",
       "property              0\n",
       "Purpose               0\n",
       "Monthly Debt          0\n",
       "credit_years          0\n",
       "deliquency            0\n",
       "open_accounts         0\n",
       "credit_problems       0\n",
       "credit_bal            0\n",
       "MOC                   0\n",
       "Bankruptcies          0\n",
       "Tax Liens             0\n",
       "dtype: int64"
      ]
     },
     "execution_count": 15,
     "metadata": {},
     "output_type": "execute_result"
    }
   ],
   "source": [
    "df1.isnull().sum()"
   ]
  },
  {
   "cell_type": "code",
   "execution_count": 16,
   "metadata": {},
   "outputs": [],
   "source": [
    "intcols,floatcols,catcols=analysefeatures(df1)"
   ]
  },
  {
   "cell_type": "code",
   "execution_count": 17,
   "metadata": {},
   "outputs": [
    {
     "data": {
      "text/plain": [
       "array(['Loan Status'], dtype=object)"
      ]
     },
     "execution_count": 17,
     "metadata": {},
     "output_type": "execute_result"
    }
   ],
   "source": [
    "intcols"
   ]
  },
  {
   "cell_type": "code",
   "execution_count": 18,
   "metadata": {},
   "outputs": [
    {
     "data": {
      "text/plain": [
       "array(['Term', 'job', 'property', 'Purpose'], dtype=object)"
      ]
     },
     "execution_count": 18,
     "metadata": {},
     "output_type": "execute_result"
    }
   ],
   "source": [
    "catcols"
   ]
  },
  {
   "cell_type": "code",
   "execution_count": 19,
   "metadata": {},
   "outputs": [
    {
     "data": {
      "text/plain": [
       "array(['loan_amount', 'Credit Score', 'Annual Income', 'Monthly Debt',\n",
       "       'credit_years', 'deliquency', 'open_accounts', 'credit_problems',\n",
       "       'credit_bal', 'MOC', 'Bankruptcies', 'Tax Liens'], dtype=object)"
      ]
     },
     "execution_count": 19,
     "metadata": {},
     "output_type": "execute_result"
    }
   ],
   "source": [
    "floatcols"
   ]
  },
  {
   "cell_type": "code",
   "execution_count": 20,
   "metadata": {},
   "outputs": [
    {
     "data": {
      "text/plain": [
       "Loan Status           0\n",
       "loan_amount           0\n",
       "Term                  0\n",
       "Credit Score          0\n",
       "Annual Income         0\n",
       "job                4222\n",
       "property              0\n",
       "Purpose               0\n",
       "Monthly Debt          0\n",
       "credit_years          0\n",
       "deliquency            0\n",
       "open_accounts         0\n",
       "credit_problems       0\n",
       "credit_bal            0\n",
       "MOC                   0\n",
       "Bankruptcies          0\n",
       "Tax Liens             0\n",
       "dtype: int64"
      ]
     },
     "execution_count": 20,
     "metadata": {},
     "output_type": "execute_result"
    }
   ],
   "source": [
    "df1.isnull().sum()"
   ]
  },
  {
   "cell_type": "code",
   "execution_count": 21,
   "metadata": {},
   "outputs": [],
   "source": [
    "######### cat_df #############\n",
    "catcols\n",
    "cat_df=pd.DataFrame(df1[catcols])\n",
    "cat_df=pd.concat([cat_df,df1['Loan Status']],axis=1)"
   ]
  },
  {
   "cell_type": "code",
   "execution_count": 22,
   "metadata": {},
   "outputs": [],
   "source": [
    "######### float_df ################\n",
    "floatcols\n",
    "float_df=pd.DataFrame(df1[floatcols])\n",
    "float_df=pd.concat([float_df,df1['Loan Status']],axis=1)\n"
   ]
  },
  {
   "cell_type": "code",
   "execution_count": 23,
   "metadata": {},
   "outputs": [
    {
     "name": "stderr",
     "output_type": "stream",
     "text": [
      "E:\\anaconda\\lib\\site-packages\\sklearn\\linear_model\\logistic.py:432: FutureWarning: Default solver will be changed to 'lbfgs' in 0.22. Specify a solver to silence this warning.\n",
      "  FutureWarning)\n"
     ]
    },
    {
     "name": "stdout",
     "output_type": "stream",
     "text": [
      "########TEST REPORT#########\n",
      "Accuracy : 0.81825\n",
      "Precision : 0.8113148245154531\n",
      "Recall : 0.9978738483345145\n",
      "F1_score : 0.8949755857964232\n"
     ]
    }
   ],
   "source": [
    "# ANALYSIS OF FLOAT_DF\n",
    "##################### NAN HANDLING ###########################################\n",
    "float_df.fillna(float_df.median(),inplace=True)\n",
    "X_f=float_df.drop('Loan Status',axis=1)\n",
    "Y_f=float_df['Loan Status']\n",
    "Xtrain_f,Xtest_f,Ytrain_f,Ytest_f=model_selection.train_test_split(X_f,Y_f,test_size=.2,random_state=0)\n",
    "X_f['Bankruptcies'].isnull().sum()\n",
    "# APPLYING LOG REGN AFTER REPLACING NAN WITH 0\n",
    "buildlog(Xtrain_f,Xtest_f,Ytrain_f,Ytest_f)\n"
   ]
  },
  {
   "cell_type": "code",
   "execution_count": 24,
   "metadata": {},
   "outputs": [
    {
     "data": {
      "image/png": "[encoded data removed]",
      "text/plain": [
       "<Figure size 720x432 with 2 Axes>"
      ]
     },
     "metadata": {
      "needs_background": "light"
     },
     "output_type": "display_data"
    }
   ],
   "source": [
    "# HEAT MAP OF CORRELATION SCORES :\n",
    "# HEATMAPS OF ALL FLOAT FEATURES :\n",
    "f, ax = plt.subplots(figsize=(10, 6))\n",
    "corr = X_f.corr()\n",
    "hm = sns.heatmap(round(corr,2), annot=True, ax=ax, cmap=\"coolwarm\",fmt='.2f',\n",
    "                 linewidths=.05)\n",
    "f.subplots_adjust(top=0.93)\n",
    "t= f.suptitle('Loan Attributes Correlation Heatmap', fontsize=14)"
   ]
  },
  {
   "cell_type": "code",
   "execution_count": 25,
   "metadata": {},
   "outputs": [
    {
     "data": {
      "image/png": "[encoded data removed]",
      "text/plain": [
       "<Figure size 432x288 with 1 Axes>"
      ]
     },
     "metadata": {
      "needs_background": "light"
     },
     "output_type": "display_data"
    }
   ],
   "source": [
    "#########TRAIN REPORT#########\n",
    "#Accuracy : 0.81415\n",
    "#Precision : 0.809433465085639\n",
    "#Recall : 0.9934670116429496\n",
    "#F1_score : 0.8920574996369972\n",
    "#AUC : 0.5984956203589198\n",
    "#########TEST REPORT#########\n",
    "#Accuracy : 0.81875\n",
    "#Precision : 0.813349488989569\n",
    "#Recall : 0.9947168352554604\n",
    "#F1_score : 0.8949366721734342\n",
    "#AUC : 0.6018460264689893\n",
    "\n",
    "# APPLYING LOG REGN AFTER REPLACING NAN WITH MEAN\n",
    "#########TRAIN REPORT#########\n",
    "#Accuracy : 0.81395\n",
    "#Precision : 0.8093525179856115\n",
    "#Recall : 0.9932891332470892\n",
    "#F1_score : 0.8919366314780665\n",
    "#AUC : 0.5982690159627517\n",
    "#########TEST REPORT#########\n",
    "#Accuracy : 0.8188\n",
    "#Precision : 0.8135575351852828\n",
    "#Recall : 0.9943946910637201\n",
    "#F1_score : 0.8949321581816073\n",
    "#AUC : 0.6023547467374863\n",
    "\n",
    "# APPLYING LOG REGN AFTER REPLACING NAN WITH MEDIAN\n",
    "#########TRAIN REPORT#########\n",
    "#Accuracy : 0.81415\n",
    "#Precision : 0.8093275030951189\n",
    "#Recall : 0.9936772315653298\n",
    "#F1_score : 0.8920778711728583\n",
    "#AUC : 0.5982428008046914\n",
    "#########TEST REPORT#########\n",
    "#Accuracy : 0.81905\n",
    "#Precision : 0.813573611550216\n",
    "#Recall : 0.9947812640938084\n",
    "#F1_score : 0.8950984086495261\n",
    "#AUC : 0.6024364011918026\n",
    "\n",
    "################## APPLYING ANOVA ON FLOAT_DF AFTER REPLACING NAN WITH ZERO ####################\n",
    "fvalue,probability=feature_selection.f_classif(Xtrain_f,Ytrain_f)\n",
    "ser=pd.Series(probability)\n",
    "ser.index=Xtrain_f.columns\n",
    "ser.sort_values(ascending=False).plot.bar()\n",
    "ser.sort_values(ascending=False,inplace=True)\n"
   ]
  },
  {
   "cell_type": "code",
   "execution_count": 26,
   "metadata": {},
   "outputs": [
    {
     "data": {
      "image/png": "[encoded data removed]",
      "text/plain": [
       "<Figure size 432x288 with 1 Axes>"
      ]
     },
     "metadata": {
      "needs_background": "light"
     },
     "output_type": "display_data"
    }
   ],
   "source": [
    "ser1=pd.Series(fvalue)\n",
    "ser1.index=Xtrain_f.columns\n",
    "ser1.sort_values(ascending=False).plot.bar()\n",
    "ser1.sort_values(ascending=False,inplace=True)"
   ]
  },
  {
   "cell_type": "code",
   "execution_count": 27,
   "metadata": {},
   "outputs": [],
   "source": [
    "# SELECTING K=3 BEST COLUMNS ACCORDING TO ANOVA \n",
    "obj=feature_selection.SelectKBest(score_func=feature_selection.f_classif,k=3) \n",
    "obj.fit(Xtrain_f,Ytrain_f)\n",
    "Xtrain_f.columns.values[obj.get_support()]\n",
    "#array(['loan_amount', 'Credit Score', 'Annual Income'], dtype=object)\n",
    "lst_anova=['loan_amount', 'Credit Score', 'Annual Income']\n",
    "arr_anova=np.array(lst_anova)\n",
    "###########################################################################################"
   ]
  },
  {
   "cell_type": "code",
   "execution_count": 28,
   "metadata": {},
   "outputs": [
    {
     "data": {
      "text/plain": [
       "10+ years    31121\n",
       "2 years       9134\n",
       "3 years       8169\n",
       "< 1 year      8164\n",
       "5 years       6787\n",
       "1 year        6460\n",
       "4 years       6143\n",
       "6 years       5686\n",
       "7 years       5577\n",
       "8 years       4582\n",
       "9 years       3955\n",
       "Name: job, dtype: int64"
      ]
     },
     "execution_count": 28,
     "metadata": {},
     "output_type": "execute_result"
    }
   ],
   "source": [
    "#ANALYSIS OF CAT_DF :\n",
    "cat_df.fillna(cat_df.median(), inplace=True)\n",
    "cat_df['job'].unique()\n",
    "cat_df['job'].value_counts()"
   ]
  },
  {
   "cell_type": "code",
   "execution_count": 29,
   "metadata": {},
   "outputs": [
    {
     "data": {
      "text/plain": [
       "Home Mortgage    48410\n",
       "Rent             42194\n",
       "Own Home          9182\n",
       "HaveMortgage       214\n",
       "Name: property, dtype: int64"
      ]
     },
     "execution_count": 29,
     "metadata": {},
     "output_type": "execute_result"
    }
   ],
   "source": [
    "cat_df.property.unique()\n",
    "cat_df.property.value_counts()\n",
    "#Home Mortgage    48410\n",
    "#Rent             42194\n",
    "#Own Home          9182\n",
    "#HaveMortgage       214"
   ]
  },
  {
   "cell_type": "code",
   "execution_count": 30,
   "metadata": {},
   "outputs": [
    {
     "data": {
      "text/plain": [
       "Debt Consolidation      78552\n",
       "other                    6037\n",
       "Home Improvements        5839\n",
       "Other                    3250\n",
       "Business Loan            1569\n",
       "Buy a Car                1265\n",
       "Medical Bills            1127\n",
       "Buy House                 678\n",
       "Take a Trip               573\n",
       "major_purchase            352\n",
       "small_business            283\n",
       "moving                    150\n",
       "wedding                   115\n",
       "vacation                  101\n",
       "Educational Expenses       99\n",
       "renewable_energy           10\n",
       "Name: Purpose, dtype: int64"
      ]
     },
     "execution_count": 30,
     "metadata": {},
     "output_type": "execute_result"
    }
   ],
   "source": [
    "cat_df.Purpose.unique()\n",
    "cat_df.Purpose.value_counts()\n",
    "#Debt Consolidation      78552\n",
    "#other                    6037\n",
    "#Home Improvements        5839\n",
    "#Other                    3250\n",
    "#Business Loan            1569\n",
    "#Buy a Car                1265\n",
    "#Medical Bills            1127\n",
    "#Buy House                 678\n",
    "#Take a Trip               573\n",
    "#major_purchase            352\n",
    "#small_business            283\n",
    "#moving                    150\n",
    "#wedding                   115\n",
    "#vacation                  101\n",
    "#Educational Expenses       99\n",
    "#renewable_energy           10\n"
   ]
  },
  {
   "cell_type": "code",
   "execution_count": 31,
   "metadata": {},
   "outputs": [],
   "source": [
    "# LABEL ENCODING OF PROPERTY \n",
    "cat_df.replace({'Purpose':{'Home Improvements':0, 'Debt Consolidation':1, 'Buy House':0, 'other':0,\n",
    "       'Business Loan':0, 'Buy a Car':0, 'major_purchase':0, 'Take a Trip':0,\n",
    "       'Other':0, 'small_business':0, 'Medical Bills':0, 'wedding':0, 'vacation':0,\n",
    "       'Educational Expenses':0, 'moving':0, 'renewable_energy':0}},inplace=True)"
   ]
  },
  {
   "cell_type": "code",
   "execution_count": 32,
   "metadata": {},
   "outputs": [],
   "source": [
    "cat_df.replace({'property':{'Home Mortgage':1, 'Own Home':0, 'Rent':0, 'HaveMortgage':1}},inplace=True)"
   ]
  },
  {
   "cell_type": "code",
   "execution_count": 33,
   "metadata": {},
   "outputs": [],
   "source": [
    "# MEAN ENCODING :\n",
    "cat_cols=cat_df.drop(['Loan Status','Purpose','property'],axis=1).columns.values\n",
    "for col in cat_cols:\n",
    "    mean_dict=cat_df.groupby(col)['Loan Status'].mean().to_dict()\n",
    "    cat_df[col]=cat_df[col].map(mean_dict)"
   ]
  },
  {
   "cell_type": "code",
   "execution_count": 34,
   "metadata": {},
   "outputs": [
    {
     "name": "stderr",
     "output_type": "stream",
     "text": [
      "E:\\anaconda\\lib\\site-packages\\sklearn\\linear_model\\logistic.py:432: FutureWarning: Default solver will be changed to 'lbfgs' in 0.22. Specify a solver to silence this warning.\n",
      "  FutureWarning)\n"
     ]
    },
    {
     "name": "stdout",
     "output_type": "stream",
     "text": [
      "########TEST REPORT#########\n",
      "Accuracy : 0.77605\n",
      "Precision : 0.77605\n",
      "Recall : 1.0\n",
      "F1_score : 0.8739055769826299\n"
     ]
    }
   ],
   "source": [
    "cat_train,cat_test=model_selection.train_test_split(cat_df, test_size=.20, random_state=0)\n",
    "X_cat_train=cat_train.drop(['Loan Status','job'],axis=1)\n",
    "Y_cat_train=cat_train['Loan Status']\n",
    "X_cat_test=cat_test.drop(['Loan Status','job'],axis=1)\n",
    "Y_cat_test=cat_test['Loan Status']\n",
    "buildlog(X_cat_train,X_cat_test,Y_cat_train,Y_cat_test)"
   ]
  },
  {
   "cell_type": "code",
   "execution_count": 35,
   "metadata": {},
   "outputs": [
    {
     "data": {
      "text/plain": [
       "SelectKBest(k='all', score_func=<function chi2 at 0x000001D13A387168>)"
      ]
     },
     "execution_count": 35,
     "metadata": {},
     "output_type": "execute_result"
    }
   ],
   "source": [
    "objchi = feature_selection.SelectKBest(score_func=feature_selection.chi2, k='all')\n",
    "objchi.fit(X_cat_train, Y_cat_train)"
   ]
  },
  {
   "cell_type": "code",
   "execution_count": 36,
   "metadata": {},
   "outputs": [
    {
     "data": {
      "text/plain": [
       "<matplotlib.axes._subplots.AxesSubplot at 0x1d13b9e90c8>"
      ]
     },
     "execution_count": 36,
     "metadata": {},
     "output_type": "execute_result"
    },
    {
     "data": {
      "image/png": "[encoded data removed]",
      "text/plain": [
       "<Figure size 432x288 with 1 Axes>"
      ]
     },
     "metadata": {
      "needs_background": "light"
     },
     "output_type": "display_data"
    }
   ],
   "source": [
    "# bar plot for chi2\n",
    "ser_chi=objchi.scores_\n",
    "ser_chi=pd.Series(ser_chi)\n",
    "ser_chi.index=X_cat_train.columns\n",
    "ser_chi.sort_values(ascending=False).plot.bar()"
   ]
  },
  {
   "cell_type": "code",
   "execution_count": 37,
   "metadata": {},
   "outputs": [
    {
     "data": {
      "text/plain": [
       "array(['Term', 'property', 'Purpose'], dtype=object)"
      ]
     },
     "execution_count": 37,
     "metadata": {},
     "output_type": "execute_result"
    }
   ],
   "source": [
    "X_cat_train.columns.values[objchi.get_support()]\n",
    "#array(['Term', 'property', 'Purpose'], dtype=object)"
   ]
  },
  {
   "cell_type": "code",
   "execution_count": 38,
   "metadata": {},
   "outputs": [],
   "source": [
    "cat_df.drop('Loan Status',axis=1,inplace=True)\n",
    "X_all=pd.concat([cat_df['Term'], float_df[arr_anova]],axis=1)\n",
    "Y_all=df1['Loan Status']\n",
    "Xtrain_all,Xtest_all,Ytrain_all,Ytest_all=model_selection.train_test_split(X_all,Y_all,test_size=.2\n",
    "                                                                           ,random_state=0)"
   ]
  },
  {
   "cell_type": "code",
   "execution_count": 39,
   "metadata": {},
   "outputs": [],
   "source": [
    "#build(Xtrain_all,Xtest_all,Ytrain_all,Ytest_all)"
   ]
  },
  {
   "cell_type": "code",
   "execution_count": 40,
   "metadata": {},
   "outputs": [
    {
     "name": "stderr",
     "output_type": "stream",
     "text": [
      "E:\\anaconda\\lib\\site-packages\\sklearn\\linear_model\\logistic.py:432: FutureWarning: Default solver will be changed to 'lbfgs' in 0.22. Specify a solver to silence this warning.\n",
      "  FutureWarning)\n"
     ]
    },
    {
     "name": "stdout",
     "output_type": "stream",
     "text": [
      "########TEST REPORT#########\n",
      "Accuracy : 0.8186\n",
      "Precision : 0.811972089607051\n",
      "Recall : 0.997165131112686\n",
      "F1_score : 0.8950899311780695\n"
     ]
    }
   ],
   "source": [
    " buildlog(Xtrain_all,Xtest_all,Ytrain_all,Ytest_all)"
   ]
  },
  {
   "cell_type": "code",
   "execution_count": 41,
   "metadata": {},
   "outputs": [
    {
     "name": "stdout",
     "output_type": "stream",
     "text": [
      "########TRAIN REPORT#########\n",
      "Accuracy : 0.819975\n",
      "Precision : 0.8114282713164045\n",
      "Recall : 0.999353169469599\n",
      "F1_score : 0.8956391936348749\n",
      "########TEST REPORT#########\n",
      "Accuracy : 0.8213\n",
      "Precision : 0.8136848185685028\n",
      "Recall : 0.9983248502029508\n",
      "F1_score : 0.8965976160166648\n"
     ]
    }
   ],
   "source": [
    "buildforest(Xtrain_all,Xtest_all,Ytrain_all,Ytest_all)"
   ]
  },
  {
   "cell_type": "code",
   "execution_count": 42,
   "metadata": {},
   "outputs": [
    {
     "name": "stdout",
     "output_type": "stream",
     "text": [
      "########TEST REPORT#########\n",
      "Accuracy : 0.3497\n",
      "Precision : 0.9518505210204815\n",
      "Recall : 0.1706719927839701\n",
      "F1_score : 0.28944493006993005\n"
     ]
    }
   ],
   "source": [
    "buildnb(Xtrain_all,Xtest_all,Ytrain_all,Ytest_all)"
   ]
  },
  {
   "cell_type": "code",
   "execution_count": 43,
   "metadata": {},
   "outputs": [
    {
     "name": "stdout",
     "output_type": "stream",
     "text": [
      "########TRAIN REPORT#########\n",
      "Accuracy : 0.9828875\n",
      "Precision : 0.9936005224063342\n",
      "Recall : 0.9842011642949547\n",
      "F1_score : 0.9888785084690687\n",
      "########TEST REPORT#########\n",
      "Accuracy : 0.7495\n",
      "Precision : 0.8378222022240792\n",
      "Recall : 0.8397654790284131\n",
      "F1_score : 0.838792715103932\n"
     ]
    }
   ],
   "source": [
    "buildtree(Xtrain_all,Xtest_all,Ytrain_all,Ytest_all)"
   ]
  },
  {
   "cell_type": "code",
   "execution_count": 44,
   "metadata": {},
   "outputs": [
    {
     "name": "stderr",
     "output_type": "stream",
     "text": [
      "E:\\anaconda\\lib\\site-packages\\sklearn\\model_selection\\_split.py:1978: FutureWarning: The default value of cv will change from 3 to 5 in version 0.22. Specify it explicitly to silence this warning.\n",
      "  warnings.warn(CV_WARNING, FutureWarning)\n"
     ]
    },
    {
     "name": "stdout",
     "output_type": "stream",
     "text": [
      "########TRAIN REPORT#########\n",
      "Accuracy : 0.7827375\n",
      "Precision : 0.7862597385873414\n",
      "Recall : 0.9873382923673998\n",
      "F1_score : 0.8754005519911108\n",
      "########TEST REPORT#########\n",
      "Accuracy : 0.7731\n",
      "Precision : 0.7824409813300417\n",
      "Recall : 0.9801559177888023\n",
      "F1_score : 0.8702093581970026\n"
     ]
    }
   ],
   "source": [
    "buildknn(Xtrain_all,Xtest_all,Ytrain_all,Ytest_all)"
   ]
  },
  {
   "cell_type": "code",
   "execution_count": 45,
   "metadata": {},
   "outputs": [],
   "source": [
    "############ KFOLD CROSS VALIDATION ###########\n",
    "import pandas\n",
    "import matplotlib.pyplot as plt\n",
    "from sklearn import model_selection\n",
    "from sklearn.linear_model import LogisticRegression\n",
    "from sklearn.tree import DecisionTreeClassifier\n",
    "from sklearn.neighbors import KNeighborsClassifier\n",
    "from sklearn.naive_bayes import GaussianNB"
   ]
  },
  {
   "cell_type": "code",
   "execution_count": 46,
   "metadata": {},
   "outputs": [],
   "source": [
    "X_all=pd.concat([cat_df[['Term','property','Purpose']], float_df[arr_anova]],axis=1)\n",
    "Y_all=df1['Loan Status']"
   ]
  },
  {
   "cell_type": "code",
   "execution_count": 47,
   "metadata": {},
   "outputs": [
    {
     "name": "stderr",
     "output_type": "stream",
     "text": [
      "E:\\anaconda\\lib\\site-packages\\sklearn\\linear_model\\logistic.py:432: FutureWarning: Default solver will be changed to 'lbfgs' in 0.22. Specify a solver to silence this warning.\n",
      "  FutureWarning)\n",
      "E:\\anaconda\\lib\\site-packages\\sklearn\\linear_model\\logistic.py:432: FutureWarning: Default solver will be changed to 'lbfgs' in 0.22. Specify a solver to silence this warning.\n",
      "  FutureWarning)\n",
      "E:\\anaconda\\lib\\site-packages\\sklearn\\linear_model\\logistic.py:432: FutureWarning: Default solver will be changed to 'lbfgs' in 0.22. Specify a solver to silence this warning.\n",
      "  FutureWarning)\n",
      "E:\\anaconda\\lib\\site-packages\\sklearn\\linear_model\\logistic.py:432: FutureWarning: Default solver will be changed to 'lbfgs' in 0.22. Specify a solver to silence this warning.\n",
      "  FutureWarning)\n",
      "E:\\anaconda\\lib\\site-packages\\sklearn\\linear_model\\logistic.py:432: FutureWarning: Default solver will be changed to 'lbfgs' in 0.22. Specify a solver to silence this warning.\n",
      "  FutureWarning)\n",
      "E:\\anaconda\\lib\\site-packages\\sklearn\\linear_model\\logistic.py:432: FutureWarning: Default solver will be changed to 'lbfgs' in 0.22. Specify a solver to silence this warning.\n",
      "  FutureWarning)\n",
      "E:\\anaconda\\lib\\site-packages\\sklearn\\linear_model\\logistic.py:432: FutureWarning: Default solver will be changed to 'lbfgs' in 0.22. Specify a solver to silence this warning.\n",
      "  FutureWarning)\n",
      "E:\\anaconda\\lib\\site-packages\\sklearn\\linear_model\\logistic.py:432: FutureWarning: Default solver will be changed to 'lbfgs' in 0.22. Specify a solver to silence this warning.\n",
      "  FutureWarning)\n",
      "E:\\anaconda\\lib\\site-packages\\sklearn\\linear_model\\logistic.py:432: FutureWarning: Default solver will be changed to 'lbfgs' in 0.22. Specify a solver to silence this warning.\n",
      "  FutureWarning)\n",
      "E:\\anaconda\\lib\\site-packages\\sklearn\\linear_model\\logistic.py:432: FutureWarning: Default solver will be changed to 'lbfgs' in 0.22. Specify a solver to silence this warning.\n",
      "  FutureWarning)\n"
     ]
    },
    {
     "name": "stdout",
     "output_type": "stream",
     "text": [
      "LR: 0.814650\n",
      "KNN: 0.756150\n",
      "DECISION TREE: 0.756620\n",
      "NB: 0.352640\n"
     ]
    },
    {
     "data": {
      "image/png": "[encoded data removed]",
      "text/plain": [
       "<Figure size 432x288 with 1 Axes>"
      ]
     },
     "metadata": {
      "needs_background": "light"
     },
     "output_type": "display_data"
    }
   ],
   "source": [
    "seed = 7\n",
    "models = []\n",
    "models.append(('LR',LogisticRegression()))\n",
    "models.append(('KNN',KNeighborsClassifier()))\n",
    "models.append(('DECISION TREE',DecisionTreeClassifier()))\n",
    "models.append(('NB',GaussianNB()))\n",
    "results=[]\n",
    "names=[]\n",
    "\n",
    "scoring='accuracy'\n",
    "for name, model in models:\n",
    "    kfold=model_selection.KFold(n_splits=10,random_state=seed)\n",
    "    cv_results=model_selection.cross_val_score(model, X_all, Y_all, cv=10, scoring='accuracy')\n",
    "    results.append(cv_results)\n",
    "    names.append(name)\n",
    "    msg=\"%s: %f\" %(name,cv_results.mean())\n",
    "    print(msg)\n",
    "fig=plt.figure()\n",
    "fig.suptitle('Algorithm Comparision')\n",
    "ax=fig.add_subplot(111);\n",
    "plt.boxplot(results)\n",
    "ax.set_xticklabels(names)\n",
    "plt.show()"
   ]
  },
  {
   "cell_type": "code",
   "execution_count": 48,
   "metadata": {},
   "outputs": [],
   "source": [
    "############### VOTING ###################\n",
    "import pandas\n",
    "import matplotlib.pyplot as plt\n",
    "from sklearn import model_selection\n",
    "from sklearn.ensemble import AdaBoostClassifier\n",
    "from sklearn import model_selection\n",
    "from sklearn.linear_model import LogisticRegression\n",
    "from sklearn.tree import DecisionTreeClassifier\n",
    "from sklearn.neighbors import KNeighborsClassifier\n",
    "from sklearn.naive_bayes import GaussianNB\n",
    "from sklearn.ensemble import VotingClassifier"
   ]
  },
  {
   "cell_type": "code",
   "execution_count": 49,
   "metadata": {},
   "outputs": [],
   "source": [
    "X_all=pd.concat([cat_df['Term'], float_df[arr_anova]],axis=1)\n",
    "Y_all=df1['Loan Status']\n"
   ]
  },
  {
   "cell_type": "code",
   "execution_count": 50,
   "metadata": {},
   "outputs": [
    {
     "name": "stderr",
     "output_type": "stream",
     "text": [
      "E:\\anaconda\\lib\\site-packages\\sklearn\\linear_model\\logistic.py:432: FutureWarning: Default solver will be changed to 'lbfgs' in 0.22. Specify a solver to silence this warning.\n",
      "  FutureWarning)\n",
      "E:\\anaconda\\lib\\site-packages\\sklearn\\linear_model\\logistic.py:432: FutureWarning: Default solver will be changed to 'lbfgs' in 0.22. Specify a solver to silence this warning.\n",
      "  FutureWarning)\n",
      "E:\\anaconda\\lib\\site-packages\\sklearn\\linear_model\\logistic.py:432: FutureWarning: Default solver will be changed to 'lbfgs' in 0.22. Specify a solver to silence this warning.\n",
      "  FutureWarning)\n",
      "E:\\anaconda\\lib\\site-packages\\sklearn\\linear_model\\logistic.py:432: FutureWarning: Default solver will be changed to 'lbfgs' in 0.22. Specify a solver to silence this warning.\n",
      "  FutureWarning)\n",
      "E:\\anaconda\\lib\\site-packages\\sklearn\\linear_model\\logistic.py:432: FutureWarning: Default solver will be changed to 'lbfgs' in 0.22. Specify a solver to silence this warning.\n",
      "  FutureWarning)\n",
      "E:\\anaconda\\lib\\site-packages\\sklearn\\linear_model\\logistic.py:432: FutureWarning: Default solver will be changed to 'lbfgs' in 0.22. Specify a solver to silence this warning.\n",
      "  FutureWarning)\n",
      "E:\\anaconda\\lib\\site-packages\\sklearn\\linear_model\\logistic.py:432: FutureWarning: Default solver will be changed to 'lbfgs' in 0.22. Specify a solver to silence this warning.\n",
      "  FutureWarning)\n",
      "E:\\anaconda\\lib\\site-packages\\sklearn\\linear_model\\logistic.py:432: FutureWarning: Default solver will be changed to 'lbfgs' in 0.22. Specify a solver to silence this warning.\n",
      "  FutureWarning)\n",
      "E:\\anaconda\\lib\\site-packages\\sklearn\\linear_model\\logistic.py:432: FutureWarning: Default solver will be changed to 'lbfgs' in 0.22. Specify a solver to silence this warning.\n",
      "  FutureWarning)\n",
      "E:\\anaconda\\lib\\site-packages\\sklearn\\linear_model\\logistic.py:432: FutureWarning: Default solver will be changed to 'lbfgs' in 0.22. Specify a solver to silence this warning.\n",
      "  FutureWarning)\n"
     ]
    },
    {
     "name": "stdout",
     "output_type": "stream",
     "text": [
      "Weighted Mean of all models : LR ,Decision Tree, KNN, Gaussian\n",
      "0.73548\n"
     ]
    }
   ],
   "source": [
    "seed=7\n",
    "kfold=model_selection.KFold(n_splits=10,random_state=7)\n",
    "#create the submodel\n",
    "estimators=[]\n",
    "model1=LogisticRegression()\n",
    "estimators.append(('Logistic',model1))\n",
    "model2=DecisionTreeClassifier()\n",
    "estimators.append(('Decision',model2))\n",
    "model3=KNeighborsClassifier()\n",
    "estimators.append(('KNN',model3))\n",
    "model4=GaussianNB()\n",
    "estimators.append(('Gaussian',model4))\n",
    "\n",
    "ensemble=VotingClassifier(estimators)\n",
    "results=model_selection.cross_val_score(ensemble,X_all,Y_all,cv=kfold)\n",
    "print(\"Weighted Mean of all models : LR ,Decision Tree, KNN, Gaussian\")\n",
    "print(results.mean())"
   ]
  },
  {
   "cell_type": "code",
   "execution_count": 51,
   "metadata": {},
   "outputs": [],
   "source": [
    "############ ADABOOST CLASSIFIER ##################\n",
    "import pandas\n",
    "from sklearn import model_selection\n",
    "from sklearn.ensemble import AdaBoostClassifier"
   ]
  },
  {
   "cell_type": "code",
   "execution_count": 52,
   "metadata": {},
   "outputs": [],
   "source": [
    "X_all=pd.concat([cat_df[['Term','property','Purpose']], float_df[arr_anova]],axis=1)\n",
    "Y_all=df1['Loan Status']"
   ]
  },
  {
   "cell_type": "code",
   "execution_count": 53,
   "metadata": {},
   "outputs": [
    {
     "name": "stdout",
     "output_type": "stream",
     "text": [
      "0.8190899999999999\n"
     ]
    }
   ],
   "source": [
    "seed=7\n",
    "num_trees=30\n",
    "kfold=model_selection.KFold(n_splits=10,random_state=seed)\n",
    "model=AdaBoostClassifier(n_estimators=num_trees,random_state=seed)\n",
    "results=model_selection.cross_val_score(model,X_all,Y_all,cv=kfold)\n",
    "print(results.mean())"
   ]
  },
  {
   "cell_type": "code",
   "execution_count": 54,
   "metadata": {},
   "outputs": [],
   "source": [
    "############### BAGGING CLASSIFIER ###################\n",
    "import pandas\n",
    "from sklearn import model_selection\n",
    "from sklearn.ensemble import BaggingClassifier\n",
    "from sklearn.tree import DecisionTreeClassifier"
   ]
  },
  {
   "cell_type": "code",
   "execution_count": 55,
   "metadata": {},
   "outputs": [],
   "source": [
    "X_all=pd.concat([cat_df[['Term','property','Purpose']], float_df[arr_anova]],axis=1)\n",
    "Y_all=df1['Loan Status']"
   ]
  },
  {
   "cell_type": "code",
   "execution_count": 56,
   "metadata": {},
   "outputs": [],
   "source": [
    "kfold=model_selection.KFold(n_splits=10,random_state=7)"
   ]
  },
  {
   "cell_type": "code",
   "execution_count": 57,
   "metadata": {},
   "outputs": [],
   "source": [
    "cart=DecisionTreeClassifier()\n",
    "num_trees=100\n",
    "model=BaggingClassifier(base_estimator=cart,n_estimators=num_trees,random_state=10)\n",
    "results=model_selection.cross_val_score(model,X_all,Y_all,cv=kfold)\n"
   ]
  },
  {
   "cell_type": "code",
   "execution_count": 58,
   "metadata": {
    "scrolled": true
   },
   "outputs": [
    {
     "name": "stdout",
     "output_type": "stream",
     "text": [
      "0.79386\n"
     ]
    }
   ],
   "source": [
    "print(results.mean())"
   ]
  }
 ],
 "metadata": {
  "kernelspec": {
   "display_name": "Python 3",
   "language": "python",
   "name": "python3"
  },
  "language_info": {
   "codemirror_mode": {
    "name": "ipython",
    "version": 3
   },
   "file_extension": ".py",
   "mimetype": "text/x-python",
   "name": "python",
   "nbconvert_exporter": "python",
   "pygments_lexer": "ipython3",
   "version": "3.7.4"
  }
 },
 "nbformat": 4,
 "nbformat_minor": 2
}
